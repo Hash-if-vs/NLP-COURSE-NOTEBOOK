{
 "cells": [
  {
   "cell_type": "code",
   "execution_count": 13,
   "id": "866a024e",
   "metadata": {},
   "outputs": [
    {
     "name": "stderr",
     "output_type": "stream",
     "text": [
      "[nltk_data] Downloading collection 'book'\n",
      "[nltk_data]    | \n",
      "[nltk_data]    | Downloading package abc to\n",
      "[nltk_data]    |     C:\\Users\\Hashif\\AppData\\Roaming\\nltk_data...\n",
      "[nltk_data]    |   Package abc is already up-to-date!\n",
      "[nltk_data]    | Downloading package brown to\n",
      "[nltk_data]    |     C:\\Users\\Hashif\\AppData\\Roaming\\nltk_data...\n",
      "[nltk_data]    |   Package brown is already up-to-date!\n",
      "[nltk_data]    | Downloading package chat80 to\n",
      "[nltk_data]    |     C:\\Users\\Hashif\\AppData\\Roaming\\nltk_data...\n",
      "[nltk_data]    |   Package chat80 is already up-to-date!\n",
      "[nltk_data]    | Downloading package cmudict to\n",
      "[nltk_data]    |     C:\\Users\\Hashif\\AppData\\Roaming\\nltk_data...\n",
      "[nltk_data]    |   Package cmudict is already up-to-date!\n",
      "[nltk_data]    | Downloading package conll2000 to\n",
      "[nltk_data]    |     C:\\Users\\Hashif\\AppData\\Roaming\\nltk_data...\n",
      "[nltk_data]    |   Package conll2000 is already up-to-date!\n",
      "[nltk_data]    | Downloading package conll2002 to\n",
      "[nltk_data]    |     C:\\Users\\Hashif\\AppData\\Roaming\\nltk_data...\n",
      "[nltk_data]    |   Package conll2002 is already up-to-date!\n",
      "[nltk_data]    | Downloading package dependency_treebank to\n",
      "[nltk_data]    |     C:\\Users\\Hashif\\AppData\\Roaming\\nltk_data...\n",
      "[nltk_data]    |   Package dependency_treebank is already up-to-date!\n",
      "[nltk_data]    | Downloading package genesis to\n",
      "[nltk_data]    |     C:\\Users\\Hashif\\AppData\\Roaming\\nltk_data...\n",
      "[nltk_data]    |   Package genesis is already up-to-date!\n",
      "[nltk_data]    | Downloading package gutenberg to\n",
      "[nltk_data]    |     C:\\Users\\Hashif\\AppData\\Roaming\\nltk_data...\n",
      "[nltk_data]    |   Package gutenberg is already up-to-date!\n",
      "[nltk_data]    | Downloading package ieer to\n",
      "[nltk_data]    |     C:\\Users\\Hashif\\AppData\\Roaming\\nltk_data...\n",
      "[nltk_data]    |   Package ieer is already up-to-date!\n",
      "[nltk_data]    | Downloading package inaugural to\n",
      "[nltk_data]    |     C:\\Users\\Hashif\\AppData\\Roaming\\nltk_data...\n",
      "[nltk_data]    |   Package inaugural is already up-to-date!\n",
      "[nltk_data]    | Downloading package movie_reviews to\n",
      "[nltk_data]    |     C:\\Users\\Hashif\\AppData\\Roaming\\nltk_data...\n",
      "[nltk_data]    |   Package movie_reviews is already up-to-date!\n",
      "[nltk_data]    | Downloading package nps_chat to\n",
      "[nltk_data]    |     C:\\Users\\Hashif\\AppData\\Roaming\\nltk_data...\n",
      "[nltk_data]    |   Package nps_chat is already up-to-date!\n",
      "[nltk_data]    | Downloading package names to\n",
      "[nltk_data]    |     C:\\Users\\Hashif\\AppData\\Roaming\\nltk_data...\n",
      "[nltk_data]    |   Package names is already up-to-date!\n",
      "[nltk_data]    | Downloading package ppattach to\n",
      "[nltk_data]    |     C:\\Users\\Hashif\\AppData\\Roaming\\nltk_data...\n",
      "[nltk_data]    |   Package ppattach is already up-to-date!\n",
      "[nltk_data]    | Downloading package reuters to\n",
      "[nltk_data]    |     C:\\Users\\Hashif\\AppData\\Roaming\\nltk_data...\n",
      "[nltk_data]    |   Package reuters is already up-to-date!\n",
      "[nltk_data]    | Downloading package senseval to\n",
      "[nltk_data]    |     C:\\Users\\Hashif\\AppData\\Roaming\\nltk_data...\n",
      "[nltk_data]    |   Package senseval is already up-to-date!\n",
      "[nltk_data]    | Downloading package state_union to\n",
      "[nltk_data]    |     C:\\Users\\Hashif\\AppData\\Roaming\\nltk_data...\n",
      "[nltk_data]    |   Package state_union is already up-to-date!\n",
      "[nltk_data]    | Downloading package stopwords to\n",
      "[nltk_data]    |     C:\\Users\\Hashif\\AppData\\Roaming\\nltk_data...\n",
      "[nltk_data]    |   Package stopwords is already up-to-date!\n",
      "[nltk_data]    | Downloading package swadesh to\n",
      "[nltk_data]    |     C:\\Users\\Hashif\\AppData\\Roaming\\nltk_data...\n",
      "[nltk_data]    |   Package swadesh is already up-to-date!\n",
      "[nltk_data]    | Downloading package timit to\n",
      "[nltk_data]    |     C:\\Users\\Hashif\\AppData\\Roaming\\nltk_data...\n",
      "[nltk_data]    |   Package timit is already up-to-date!\n",
      "[nltk_data]    | Downloading package treebank to\n",
      "[nltk_data]    |     C:\\Users\\Hashif\\AppData\\Roaming\\nltk_data...\n",
      "[nltk_data]    |   Package treebank is already up-to-date!\n",
      "[nltk_data]    | Downloading package toolbox to\n",
      "[nltk_data]    |     C:\\Users\\Hashif\\AppData\\Roaming\\nltk_data...\n",
      "[nltk_data]    |   Package toolbox is already up-to-date!\n",
      "[nltk_data]    | Downloading package udhr to\n",
      "[nltk_data]    |     C:\\Users\\Hashif\\AppData\\Roaming\\nltk_data...\n",
      "[nltk_data]    |   Package udhr is already up-to-date!\n",
      "[nltk_data]    | Downloading package udhr2 to\n",
      "[nltk_data]    |     C:\\Users\\Hashif\\AppData\\Roaming\\nltk_data...\n",
      "[nltk_data]    |   Package udhr2 is already up-to-date!\n",
      "[nltk_data]    | Downloading package unicode_samples to\n",
      "[nltk_data]    |     C:\\Users\\Hashif\\AppData\\Roaming\\nltk_data...\n",
      "[nltk_data]    |   Package unicode_samples is already up-to-date!\n",
      "[nltk_data]    | Downloading package webtext to\n",
      "[nltk_data]    |     C:\\Users\\Hashif\\AppData\\Roaming\\nltk_data...\n",
      "[nltk_data]    |   Package webtext is already up-to-date!\n",
      "[nltk_data]    | Downloading package wordnet to\n",
      "[nltk_data]    |     C:\\Users\\Hashif\\AppData\\Roaming\\nltk_data...\n",
      "[nltk_data]    |   Package wordnet is already up-to-date!\n",
      "[nltk_data]    | Downloading package wordnet_ic to\n",
      "[nltk_data]    |     C:\\Users\\Hashif\\AppData\\Roaming\\nltk_data...\n",
      "[nltk_data]    |   Package wordnet_ic is already up-to-date!\n",
      "[nltk_data]    | Downloading package words to\n",
      "[nltk_data]    |     C:\\Users\\Hashif\\AppData\\Roaming\\nltk_data...\n",
      "[nltk_data]    |   Package words is already up-to-date!\n",
      "[nltk_data]    | Downloading package maxent_treebank_pos_tagger to\n",
      "[nltk_data]    |     C:\\Users\\Hashif\\AppData\\Roaming\\nltk_data...\n",
      "[nltk_data]    |   Package maxent_treebank_pos_tagger is already up-\n",
      "[nltk_data]    |       to-date!\n",
      "[nltk_data]    | Downloading package maxent_ne_chunker to\n",
      "[nltk_data]    |     C:\\Users\\Hashif\\AppData\\Roaming\\nltk_data...\n",
      "[nltk_data]    |   Package maxent_ne_chunker is already up-to-date!\n",
      "[nltk_data]    | Downloading package universal_tagset to\n",
      "[nltk_data]    |     C:\\Users\\Hashif\\AppData\\Roaming\\nltk_data...\n",
      "[nltk_data]    |   Package universal_tagset is already up-to-date!\n",
      "[nltk_data]    | Downloading package punkt to\n",
      "[nltk_data]    |     C:\\Users\\Hashif\\AppData\\Roaming\\nltk_data...\n",
      "[nltk_data]    |   Package punkt is already up-to-date!\n",
      "[nltk_data]    | Downloading package book_grammars to\n",
      "[nltk_data]    |     C:\\Users\\Hashif\\AppData\\Roaming\\nltk_data...\n",
      "[nltk_data]    |   Package book_grammars is already up-to-date!\n",
      "[nltk_data]    | Downloading package city_database to\n",
      "[nltk_data]    |     C:\\Users\\Hashif\\AppData\\Roaming\\nltk_data...\n",
      "[nltk_data]    |   Package city_database is already up-to-date!\n",
      "[nltk_data]    | Downloading package tagsets to\n",
      "[nltk_data]    |     C:\\Users\\Hashif\\AppData\\Roaming\\nltk_data...\n",
      "[nltk_data]    |   Package tagsets is already up-to-date!\n",
      "[nltk_data]    | Downloading package panlex_swadesh to\n",
      "[nltk_data]    |     C:\\Users\\Hashif\\AppData\\Roaming\\nltk_data...\n",
      "[nltk_data]    |   Package panlex_swadesh is already up-to-date!\n",
      "[nltk_data]    | Downloading package averaged_perceptron_tagger to\n",
      "[nltk_data]    |     C:\\Users\\Hashif\\AppData\\Roaming\\nltk_data...\n",
      "[nltk_data]    |   Package averaged_perceptron_tagger is already up-\n",
      "[nltk_data]    |       to-date!\n",
      "[nltk_data]    | \n",
      "[nltk_data]  Done downloading collection book\n"
     ]
    },
    {
     "data": {
      "text/plain": [
       "True"
      ]
     },
     "execution_count": 13,
     "metadata": {},
     "output_type": "execute_result"
    }
   ],
   "source": [
    "import nltk\n",
    "nltk.download(\"book\")"
   ]
  },
  {
   "cell_type": "code",
   "execution_count": 14,
   "id": "597ac12a",
   "metadata": {},
   "outputs": [],
   "source": [
    "from nltk.book import*"
   ]
  },
  {
   "cell_type": "code",
   "execution_count": 5,
   "id": "f7eb013f",
   "metadata": {},
   "outputs": [],
   "source": [
    " from nltk.corpus import brown\n",
    "    "
   ]
  },
  {
   "cell_type": "code",
   "execution_count": 9,
   "id": "a4849ade",
   "metadata": {},
   "outputs": [
    {
     "data": {
      "text/plain": [
       "<CategorizedTaggedCorpusReader in 'C:\\\\Users\\\\Hashif\\\\AppData\\\\Roaming\\\\nltk_data\\\\corpora\\\\brown'>"
      ]
     },
     "execution_count": 9,
     "metadata": {},
     "output_type": "execute_result"
    }
   ],
   "source": [
    "brown "
   ]
  },
  {
   "cell_type": "code",
   "execution_count": 6,
   "id": "20f64b10",
   "metadata": {},
   "outputs": [
    {
     "data": {
      "text/plain": [
       "['adventure',\n",
       " 'belles_lettres',\n",
       " 'editorial',\n",
       " 'fiction',\n",
       " 'government',\n",
       " 'hobbies',\n",
       " 'humor',\n",
       " 'learned',\n",
       " 'lore',\n",
       " 'mystery',\n",
       " 'news',\n",
       " 'religion',\n",
       " 'reviews',\n",
       " 'romance',\n",
       " 'science_fiction']"
      ]
     },
     "execution_count": 6,
     "metadata": {},
     "output_type": "execute_result"
    }
   ],
   "source": [
    "brown.categories()"
   ]
  },
  {
   "cell_type": "code",
   "execution_count": 7,
   "id": "0a3a2bce",
   "metadata": {},
   "outputs": [
    {
     "data": {
      "text/plain": [
       "['Dan', 'Morgan', 'told', 'himself', 'he', 'would', ...]"
      ]
     },
     "execution_count": 7,
     "metadata": {},
     "output_type": "execute_result"
    }
   ],
   "source": [
    " brown.words(categories='adventure')\n",
    "    "
   ]
  },
  {
   "cell_type": "code",
   "execution_count": 8,
   "id": "b5380af4",
   "metadata": {},
   "outputs": [
    {
     "data": {
      "text/plain": [
       "[['Assembly', 'session', 'brought', 'much', 'good'], ['The', 'General', 'Assembly', ',', 'which', 'adjourns', 'today', ',', 'has', 'performed', 'in', 'an', 'atmosphere', 'of', 'crisis', 'and', 'struggle', 'from', 'the', 'day', 'it', 'convened', '.'], ...]"
      ]
     },
     "execution_count": 8,
     "metadata": {},
     "output_type": "execute_result"
    }
   ],
   "source": [
    " brown.sents(categories=['adventure','editorial','lore'])"
   ]
  },
  {
   "cell_type": "code",
   "execution_count": 16,
   "id": "8740e9a0",
   "metadata": {},
   "outputs": [],
   "source": [
    "from nltk.tokenize import word_tokenize,sent_tokenize "
   ]
  },
  {
   "cell_type": "code",
   "execution_count": 30,
   "id": "530d0801",
   "metadata": {},
   "outputs": [
    {
     "data": {
      "text/plain": [
       "['i love oranges.', 'I hate nothing']"
      ]
     },
     "execution_count": 30,
     "metadata": {},
     "output_type": "execute_result"
    }
   ],
   "source": [
    "text='i love oranges. I hate nothing'\n",
    "sent_tokens=sent_tokenize(text)\n",
    "sent_tokens"
   ]
  },
  {
   "cell_type": "code",
   "execution_count": 32,
   "id": "409696cf",
   "metadata": {},
   "outputs": [
    {
     "data": {
      "text/plain": [
       "['i', 'love', 'oranges', '.', 'I', 'hate', 'nothing']"
      ]
     },
     "execution_count": 32,
     "metadata": {},
     "output_type": "execute_result"
    }
   ],
   "source": [
    "text='i love oranges. I hate nothing'\n",
    "word_tokens=word_tokenize(text)\n",
    "word_tokens\n"
   ]
  },
  {
   "cell_type": "code",
   "execution_count": 24,
   "id": "4680d295",
   "metadata": {},
   "outputs": [
    {
     "data": {
      "text/plain": [
       "[('i love oranges.', 'NN'), ('I hate nothing', 'VBG')]"
      ]
     },
     "execution_count": 24,
     "metadata": {},
     "output_type": "execute_result"
    }
   ],
   "source": [
    "from nltk.tag import pos_tag\n",
    "tags= pos_tag(sent_tokens)\n",
    "tags"
   ]
  },
  {
   "cell_type": "code",
   "execution_count": 33,
   "id": "67738050",
   "metadata": {},
   "outputs": [
    {
     "data": {
      "text/plain": [
       "[('i', 'NN'),\n",
       " ('love', 'VBP'),\n",
       " ('oranges', 'NNS'),\n",
       " ('.', '.'),\n",
       " ('I', 'PRP'),\n",
       " ('hate', 'VBP'),\n",
       " ('nothing', 'NN')]"
      ]
     },
     "execution_count": 33,
     "metadata": {},
     "output_type": "execute_result"
    }
   ],
   "source": [
    "from nltk.tag import pos_tag\n",
    "tags= pos_tag(word_tokens)\n",
    "tags"
   ]
  },
  {
   "cell_type": "code",
   "execution_count": 26,
   "id": "5be5acf2",
   "metadata": {},
   "outputs": [
    {
     "name": "stdout",
     "output_type": "stream",
     "text": [
      "VBG: verb, present participle or gerund\n",
      "    telegraphing stirring focusing angering judging stalling lactating\n",
      "    hankerin' alleging veering capping approaching traveling besieging\n",
      "    encrypting interrupting erasing wincing ...\n"
     ]
    }
   ],
   "source": [
    "nltk.help.upenn_tagset('VBG')  "
   ]
  },
  {
   "cell_type": "code",
   "execution_count": 34,
   "id": "37d6df55",
   "metadata": {},
   "outputs": [
    {
     "data": {
      "text/plain": [
       "['NN', 'VBP', 'NNS', '.', 'PRP', 'VBP', 'NN']"
      ]
     },
     "execution_count": 34,
     "metadata": {},
     "output_type": "execute_result"
    }
   ],
   "source": [
    "list_tags=[]\n",
    "for pair in tags:\n",
    "    list_tags.append(pair[1])\n",
    "list_tags"
   ]
  },
  {
   "cell_type": "code",
   "execution_count": 35,
   "id": "a774b561",
   "metadata": {},
   "outputs": [
    {
     "data": {
      "text/plain": [
       "['VBP', 'PRP', '.', 'NN', 'NNS']"
      ]
     },
     "execution_count": 35,
     "metadata": {},
     "output_type": "execute_result"
    }
   ],
   "source": [
    "list_tags=[]\n",
    "for pair in tags:\n",
    "    list_tags.append(pair[1])\n",
    "list_tags=list(set(list_tags))\n",
    "list_tags"
   ]
  },
  {
   "cell_type": "code",
   "execution_count": 36,
   "id": "124dbbd1",
   "metadata": {},
   "outputs": [],
   "source": [
    "raw='A set is an unordered collection of unique elements, meaning duplicate values are automatically removed. Then, the set is converted back to a list using list(), so the resulting list_tags will contain unique values.'"
   ]
  },
  {
   "cell_type": "code",
   "execution_count": 37,
   "id": "4cee4ee2",
   "metadata": {},
   "outputs": [],
   "source": [
    "tokens=nltk.word_tokenize(raw)"
   ]
  },
  {
   "cell_type": "code",
   "execution_count": 38,
   "id": "eb044faa",
   "metadata": {},
   "outputs": [],
   "source": [
    "porter=nltk.PorterStemmer()\n",
    "Lancaster=nltk.LancasterStemmer()"
   ]
  },
  {
   "cell_type": "code",
   "execution_count": 39,
   "id": "fd2acb1a",
   "metadata": {},
   "outputs": [
    {
     "data": {
      "text/plain": [
       "['a',\n",
       " 'set',\n",
       " 'is',\n",
       " 'an',\n",
       " 'unord',\n",
       " 'collect',\n",
       " 'of',\n",
       " 'uniqu',\n",
       " 'element',\n",
       " ',',\n",
       " 'mean',\n",
       " 'duplic',\n",
       " 'valu',\n",
       " 'are',\n",
       " 'automat',\n",
       " 'remov',\n",
       " '.',\n",
       " 'then',\n",
       " ',',\n",
       " 'the',\n",
       " 'set',\n",
       " 'is',\n",
       " 'convert',\n",
       " 'back',\n",
       " 'to',\n",
       " 'a',\n",
       " 'list',\n",
       " 'use',\n",
       " 'list',\n",
       " '(',\n",
       " ')',\n",
       " ',',\n",
       " 'so',\n",
       " 'the',\n",
       " 'result',\n",
       " 'list_tag',\n",
       " 'will',\n",
       " 'contain',\n",
       " 'uniqu',\n",
       " 'valu',\n",
       " '.']"
      ]
     },
     "execution_count": 39,
     "metadata": {},
     "output_type": "execute_result"
    }
   ],
   "source": [
    "[porter.stem(t) for t in tokens]"
   ]
  },
  {
   "cell_type": "code",
   "execution_count": 41,
   "id": "aa58a404",
   "metadata": {},
   "outputs": [
    {
     "data": {
      "text/plain": [
       "['a',\n",
       " 'set',\n",
       " 'is',\n",
       " 'an',\n",
       " 'unord',\n",
       " 'collect',\n",
       " 'of',\n",
       " 'un',\n",
       " 'el',\n",
       " ',',\n",
       " 'mean',\n",
       " 'duply',\n",
       " 'valu',\n",
       " 'ar',\n",
       " 'autom',\n",
       " 'remov',\n",
       " '.',\n",
       " 'then',\n",
       " ',',\n",
       " 'the',\n",
       " 'set',\n",
       " 'is',\n",
       " 'convert',\n",
       " 'back',\n",
       " 'to',\n",
       " 'a',\n",
       " 'list',\n",
       " 'us',\n",
       " 'list',\n",
       " '(',\n",
       " ')',\n",
       " ',',\n",
       " 'so',\n",
       " 'the',\n",
       " 'result',\n",
       " 'list_tags',\n",
       " 'wil',\n",
       " 'contain',\n",
       " 'un',\n",
       " 'valu',\n",
       " '.']"
      ]
     },
     "execution_count": 41,
     "metadata": {},
     "output_type": "execute_result"
    }
   ],
   "source": [
    "[Lancaster.stem(t) for t in tokens]"
   ]
  },
  {
   "cell_type": "code",
   "execution_count": 42,
   "id": "fa37a2f8",
   "metadata": {},
   "outputs": [],
   "source": [
    "wnl=nltk.WordNetLemmatizer()"
   ]
  },
  {
   "cell_type": "code",
   "execution_count": 45,
   "id": "96d6a13a",
   "metadata": {},
   "outputs": [
    {
     "data": {
      "text/plain": [
       "['A',\n",
       " 'set',\n",
       " 'is',\n",
       " 'an',\n",
       " 'unordered',\n",
       " 'collection',\n",
       " 'of',\n",
       " 'unique',\n",
       " 'element',\n",
       " ',',\n",
       " 'meaning',\n",
       " 'duplicate',\n",
       " 'value',\n",
       " 'are',\n",
       " 'automatically',\n",
       " 'removed',\n",
       " '.',\n",
       " 'Then',\n",
       " ',',\n",
       " 'the',\n",
       " 'set',\n",
       " 'is',\n",
       " 'converted',\n",
       " 'back',\n",
       " 'to',\n",
       " 'a',\n",
       " 'list',\n",
       " 'using',\n",
       " 'list',\n",
       " '(',\n",
       " ')',\n",
       " ',',\n",
       " 'so',\n",
       " 'the',\n",
       " 'resulting',\n",
       " 'list_tags',\n",
       " 'will',\n",
       " 'contain',\n",
       " 'unique',\n",
       " 'value',\n",
       " '.']"
      ]
     },
     "execution_count": 45,
     "metadata": {},
     "output_type": "execute_result"
    }
   ],
   "source": [
    "[wnl.lemmatize(t)for t in tokens]"
   ]
  },
  {
   "cell_type": "code",
   "execution_count": 46,
   "id": "526bbd4b",
   "metadata": {},
   "outputs": [],
   "source": [
    "eg='the big yellow bird flew over the house'"
   ]
  },
  {
   "cell_type": "code",
   "execution_count": 48,
   "id": "a9a81c6c",
   "metadata": {},
   "outputs": [],
   "source": [
    "def preprocess(sent):\n",
    "    sent=nltk.word_tokenize(sent)\n",
    "    sent=nltk.pos_tag(sent)\n",
    "    return sent"
   ]
  },
  {
   "cell_type": "code",
   "execution_count": 50,
   "id": "426f3e5e",
   "metadata": {},
   "outputs": [
    {
     "data": {
      "text/plain": [
       "[('the', 'DT'),\n",
       " ('big', 'JJ'),\n",
       " ('yellow', 'JJ'),\n",
       " ('bird', 'NN'),\n",
       " ('flew', 'VBD'),\n",
       " ('over', 'IN'),\n",
       " ('the', 'DT'),\n",
       " ('house', 'NN')]"
      ]
     },
     "execution_count": 50,
     "metadata": {},
     "output_type": "execute_result"
    }
   ],
   "source": [
    "sent= preprocess(eg)\n",
    "sent"
   ]
  },
  {
   "cell_type": "code",
   "execution_count": 51,
   "id": "7175f26e",
   "metadata": {},
   "outputs": [],
   "source": [
    "np_rule='NP: {<DT>?<JJ>*<NN>}'"
   ]
  },
  {
   "cell_type": "code",
   "execution_count": 55,
   "id": "3db5e237",
   "metadata": {},
   "outputs": [
    {
     "name": "stdout",
     "output_type": "stream",
     "text": [
      "(S\n",
      "  (NP the/DT big/JJ yellow/JJ bird/NN)\n",
      "  flew/VBD\n",
      "  over/IN\n",
      "  (NP the/DT house/NN))\n"
     ]
    }
   ],
   "source": [
    "cp=nltk.RegexpParser(np_rule)\n",
    "cs= cp.parse(sent)\n",
    "print(cs)\n"
   ]
  },
  {
   "attachments": {
    "Screenshot%202023-06-28%20183530.png": {
     "image/png": "[encoded data removed]"
    }
   },
   "cell_type": "markdown",
   "id": "f0f9957b",
   "metadata": {},
   "source": [
    "![Screenshot%202023-06-28%20183530.png](attachment:Screenshot%202023-06-28%20183530.png)"
   ]
  },
  {
   "cell_type": "markdown",
   "id": "90e2eab1",
   "metadata": {},
   "source": [
    "#                Frequency Distributions "
   ]
  },
  {
   "cell_type": "code",
   "execution_count": 1,
   "id": "2bc73bc1",
   "metadata": {},
   "outputs": [
    {
     "name": "stdout",
     "output_type": "stream",
     "text": [
      "*** Introductory Examples for the NLTK Book ***\n",
      "Loading text1, ..., text9 and sent1, ..., sent9\n",
      "Type the name of the text or sentence to view it.\n",
      "Type: 'texts()' or 'sents()' to list the materials.\n",
      "text1: Moby Dick by Herman Melville 1851\n",
      "text2: Sense and Sensibility by Jane Austen 1811\n",
      "text3: The Book of Genesis\n",
      "text4: Inaugural Address Corpus\n",
      "text5: Chat Corpus\n",
      "text6: Monty Python and the Holy Grail\n",
      "text7: Wall Street Journal\n",
      "text8: Personals Corpus\n",
      "text9: The Man Who Was Thursday by G . K . Chesterton 1908\n"
     ]
    }
   ],
   "source": [
    " from nltk.book import*"
   ]
  },
  {
   "cell_type": "code",
   "execution_count": 2,
   "id": "5506d97b",
   "metadata": {},
   "outputs": [],
   "source": [
    "ex= text1[:50]"
   ]
  },
  {
   "cell_type": "code",
   "execution_count": 4,
   "id": "41540518",
   "metadata": {},
   "outputs": [],
   "source": [
    "fdist=FreqDist(text1)"
   ]
  },
  {
   "cell_type": "code",
   "execution_count": 6,
   "id": "1d8a590f",
   "metadata": {},
   "outputs": [
    {
     "data": {
      "text/plain": [
       "19317"
      ]
     },
     "execution_count": 6,
     "metadata": {},
     "output_type": "execute_result"
    }
   ],
   "source": [
    "count = len(fdist)\n",
    "count"
   ]
  },
  {
   "cell_type": "code",
   "execution_count": 7,
   "id": "7da2942e",
   "metadata": {},
   "outputs": [
    {
     "data": {
      "text/plain": [
       "[(',', 18713),\n",
       " ('the', 13721),\n",
       " ('.', 6862),\n",
       " ('of', 6536),\n",
       " ('and', 6024),\n",
       " ('a', 4569),\n",
       " ('to', 4542),\n",
       " (';', 4072),\n",
       " ('in', 3916),\n",
       " ('that', 2982),\n",
       " (\"'\", 2684),\n",
       " ('-', 2552),\n",
       " ('his', 2459),\n",
       " ('it', 2209),\n",
       " ('I', 2124),\n",
       " ('s', 1739),\n",
       " ('is', 1695),\n",
       " ('he', 1661),\n",
       " ('with', 1659),\n",
       " ('was', 1632),\n",
       " ('as', 1620),\n",
       " ('\"', 1478),\n",
       " ('all', 1462),\n",
       " ('for', 1414),\n",
       " ('this', 1280),\n",
       " ('!', 1269),\n",
       " ('at', 1231),\n",
       " ('by', 1137),\n",
       " ('but', 1113),\n",
       " ('not', 1103),\n",
       " ('--', 1070),\n",
       " ('him', 1058),\n",
       " ('from', 1052),\n",
       " ('be', 1030),\n",
       " ('on', 1005),\n",
       " ('so', 918),\n",
       " ('whale', 906),\n",
       " ('one', 889),\n",
       " ('you', 841),\n",
       " ('had', 767),\n",
       " ('have', 760),\n",
       " ('there', 715),\n",
       " ('But', 705),\n",
       " ('or', 697),\n",
       " ('were', 680),\n",
       " ('now', 646),\n",
       " ('which', 640),\n",
       " ('?', 637),\n",
       " ('me', 627),\n",
       " ('like', 624)]"
      ]
     },
     "execution_count": 7,
     "metadata": {},
     "output_type": "execute_result"
    }
   ],
   "source": [
    "fdist.most_common(50)"
   ]
  },
  {
   "cell_type": "code",
   "execution_count": 8,
   "id": "ecbc9e3e",
   "metadata": {},
   "outputs": [
    {
     "data": {
      "image/png": "[encoded data removed]",
      "text/plain": [
       "<Figure size 432x288 with 1 Axes>"
      ]
     },
     "metadata": {
      "needs_background": "light"
     },
     "output_type": "display_data"
    },
    {
     "data": {
      "text/plain": [
       "<AxesSubplot: xlabel='Samples', ylabel='Cumulative Counts'>"
      ]
     },
     "execution_count": 8,
     "metadata": {},
     "output_type": "execute_result"
    }
   ],
   "source": [
    "fdist.plot(50,cumulative=True)"
   ]
  },
  {
   "cell_type": "code",
   "execution_count": 9,
   "id": "89f7bf79",
   "metadata": {},
   "outputs": [
    {
     "data": {
      "text/plain": [
       "46.00891806195101"
      ]
     },
     "execution_count": 9,
     "metadata": {},
     "output_type": "execute_result"
    }
   ],
   "source": [
    " 120000/len(text1)*100"
   ]
  },
  {
   "cell_type": "code",
   "execution_count": 10,
   "id": "b3aef972",
   "metadata": {},
   "outputs": [
    {
     "data": {
      "text/plain": [
       "['Herman',\n",
       " 'Melville',\n",
       " ']',\n",
       " 'ETYMOLOGY',\n",
       " 'Late',\n",
       " 'Consumptive',\n",
       " 'School',\n",
       " 'threadbare',\n",
       " 'lexicons',\n",
       " 'mockingly',\n",
       " 'flags',\n",
       " 'mortality',\n",
       " 'signification',\n",
       " 'HACKLUYT',\n",
       " 'Sw',\n",
       " 'HVAL',\n",
       " 'roundness',\n",
       " 'Dut',\n",
       " 'Ger',\n",
       " 'WALLEN',\n",
       " 'WALW',\n",
       " 'IAN',\n",
       " 'RICHARDSON',\n",
       " 'KETOS',\n",
       " 'GREEK',\n",
       " 'CETUS',\n",
       " 'LATIN',\n",
       " 'WHOEL',\n",
       " 'ANGLO',\n",
       " 'SAXON',\n",
       " 'WAL',\n",
       " 'HWAL',\n",
       " 'SWEDISH',\n",
       " 'ICELANDIC',\n",
       " 'BALEINE',\n",
       " 'BALLENA',\n",
       " 'FEGEE',\n",
       " 'ERROMANGOAN',\n",
       " 'Librarian',\n",
       " 'painstaking',\n",
       " 'burrower',\n",
       " 'grub',\n",
       " 'Vaticans',\n",
       " 'stalls',\n",
       " 'higgledy',\n",
       " 'piggledy',\n",
       " 'gospel',\n",
       " 'promiscuously',\n",
       " 'commentator',\n",
       " 'belongest',\n",
       " 'sallow',\n",
       " 'Pale',\n",
       " 'Sherry',\n",
       " 'loves',\n",
       " 'bluntly',\n",
       " 'Subs',\n",
       " 'thankless',\n",
       " 'Hampton',\n",
       " 'Court',\n",
       " 'hie',\n",
       " 'refugees',\n",
       " 'pampered',\n",
       " 'Michael',\n",
       " 'Raphael',\n",
       " 'unsplinterable',\n",
       " 'GENESIS',\n",
       " 'JOB',\n",
       " 'JONAH',\n",
       " 'punish',\n",
       " 'ISAIAH',\n",
       " 'soever',\n",
       " 'cometh',\n",
       " 'incontinently',\n",
       " 'perisheth',\n",
       " 'PLUTARCH',\n",
       " 'MORALS',\n",
       " 'breedeth',\n",
       " 'Whirlpooles',\n",
       " 'Balaene',\n",
       " 'arpens',\n",
       " 'PLINY',\n",
       " 'Scarcely',\n",
       " 'TOOKE',\n",
       " 'LUCIAN',\n",
       " 'TRUE',\n",
       " 'catched',\n",
       " 'OCTHER',\n",
       " 'VERBAL',\n",
       " 'TAKEN',\n",
       " 'MOUTH',\n",
       " 'ALFRED',\n",
       " '890',\n",
       " 'gudgeon',\n",
       " 'retires',\n",
       " 'MONTAIGNE',\n",
       " 'APOLOGY',\n",
       " 'RAIMOND',\n",
       " 'SEBOND',\n",
       " 'Nick',\n",
       " 'RABELAIS',\n",
       " 'cartloads',\n",
       " 'STOWE',\n",
       " 'ANNALS',\n",
       " 'LORD',\n",
       " 'BACON',\n",
       " 'Touching',\n",
       " 'ork',\n",
       " 'DEATH',\n",
       " 'sovereignest',\n",
       " 'bruise',\n",
       " 'HAMLET',\n",
       " 'leach',\n",
       " 'Mote',\n",
       " 'availle',\n",
       " 'returne',\n",
       " 'againe',\n",
       " 'worker',\n",
       " 'Dinting',\n",
       " 'paine',\n",
       " 'thro',\n",
       " 'maine',\n",
       " 'FAERIE',\n",
       " 'Immense',\n",
       " 'til',\n",
       " 'DAVENANT',\n",
       " 'PREFACE',\n",
       " 'GONDIBERT',\n",
       " 'spermacetti',\n",
       " 'Hosmannus',\n",
       " 'Nescio',\n",
       " 'VIDE',\n",
       " 'Spencer',\n",
       " 'Talus',\n",
       " 'flail',\n",
       " 'threatens',\n",
       " 'jav',\n",
       " 'lins',\n",
       " 'WALLER',\n",
       " 'SUMMER',\n",
       " 'ISLANDS',\n",
       " 'Commonwealth',\n",
       " 'Civitas',\n",
       " 'OPENING',\n",
       " 'SENTENCE',\n",
       " 'HOBBES',\n",
       " 'LEVIATHAN',\n",
       " 'Silly',\n",
       " 'Mansoul',\n",
       " 'chewing',\n",
       " 'sprat',\n",
       " 'PILGRIM',\n",
       " 'PROGRESS',\n",
       " 'Created',\n",
       " 'PARADISE',\n",
       " 'LOST',\n",
       " '---\"',\n",
       " 'Hugest',\n",
       " 'Stretched',\n",
       " 'Draws',\n",
       " 'FULLLER',\n",
       " 'PROFANE',\n",
       " 'HOLY',\n",
       " 'STATE',\n",
       " 'DRYDEN',\n",
       " 'ANNUS',\n",
       " 'MIRABILIS',\n",
       " 'aground',\n",
       " 'EDGE',\n",
       " 'TEN',\n",
       " 'SPITZBERGEN',\n",
       " 'PURCHAS',\n",
       " 'wantonness',\n",
       " 'fuzzing',\n",
       " 'vents',\n",
       " 'HERBERT',\n",
       " 'INTO',\n",
       " 'ASIA',\n",
       " 'AFRICA',\n",
       " 'SCHOUTEN',\n",
       " 'SIXTH',\n",
       " 'CIRCUMNAVIGATION',\n",
       " 'Elbe',\n",
       " 'ducat',\n",
       " 'herrings',\n",
       " 'GREENLAND',\n",
       " 'Several',\n",
       " 'Fife',\n",
       " 'Anno',\n",
       " '1652',\n",
       " 'Pitferren',\n",
       " 'SIBBALD',\n",
       " 'FIFE',\n",
       " 'KINROSS',\n",
       " 'Myself',\n",
       " 'Sperma',\n",
       " 'ceti',\n",
       " 'fierceness',\n",
       " 'RICHARD',\n",
       " 'STRAFFORD',\n",
       " 'LETTER',\n",
       " 'BERMUDAS',\n",
       " 'PHIL',\n",
       " 'TRANS',\n",
       " '1668',\n",
       " 'PRIMER',\n",
       " 'COWLEY',\n",
       " '1729',\n",
       " '\"...',\n",
       " 'frequendy',\n",
       " 'insupportable',\n",
       " 'disorder',\n",
       " 'ULLOA',\n",
       " 'SOUTH',\n",
       " 'AMERICA',\n",
       " 'sylphs',\n",
       " 'petticoat',\n",
       " 'Oft',\n",
       " 'Tho',\n",
       " 'RAPE',\n",
       " 'LOCK',\n",
       " 'NAT',\n",
       " 'wales',\n",
       " 'JOHNSON',\n",
       " 'COOK',\n",
       " 'dung',\n",
       " 'lime',\n",
       " 'juniper',\n",
       " 'UNO',\n",
       " 'VON',\n",
       " 'TROIL',\n",
       " 'LETTERS',\n",
       " 'BANKS',\n",
       " 'SOLANDER',\n",
       " '1772',\n",
       " 'Nantuckois',\n",
       " 'JEFFERSON',\n",
       " 'MEMORIAL',\n",
       " 'MINISTER',\n",
       " 'REFERENCE',\n",
       " 'PARLIAMENT',\n",
       " 'SOMEWHERE',\n",
       " 'guarding',\n",
       " 'protecting',\n",
       " 'robbers',\n",
       " 'BLACKSTONE',\n",
       " 'Rodmond',\n",
       " 'suspends',\n",
       " 'attends',\n",
       " 'FALCONER',\n",
       " 'Bright',\n",
       " 'roofs',\n",
       " 'domes',\n",
       " 'rockets',\n",
       " 'Around',\n",
       " 'unwieldy',\n",
       " 'COWPER',\n",
       " 'VISIT',\n",
       " 'LONDON',\n",
       " 'HUNTER',\n",
       " 'DISSECTION',\n",
       " 'SMALL',\n",
       " 'SIZED',\n",
       " 'aorta',\n",
       " 'gushing',\n",
       " 'PALEY',\n",
       " 'THEOLOGY',\n",
       " 'mammiferous',\n",
       " 'hind',\n",
       " 'BARON',\n",
       " 'CUVIER',\n",
       " 'COLNETT',\n",
       " 'PURPOSE',\n",
       " 'EXTENDING',\n",
       " 'SPERMACETI',\n",
       " 'Floundered',\n",
       " 'chace',\n",
       " 'peopling',\n",
       " 'Gather',\n",
       " 'Led',\n",
       " 'instincts',\n",
       " 'trackless',\n",
       " 'Assaulted',\n",
       " 'voracious',\n",
       " 'spiral',\n",
       " 'MONTGOMERY',\n",
       " 'WORLD',\n",
       " 'FLOOD',\n",
       " 'Paean',\n",
       " 'fatter',\n",
       " 'Flounders',\n",
       " 'CHARLES',\n",
       " 'LAMB',\n",
       " 'TRIUMPH',\n",
       " '1690',\n",
       " 'OBED',\n",
       " 'Susan',\n",
       " 'HAWTHORNE',\n",
       " 'TWICE',\n",
       " 'bespeak',\n",
       " 'raal',\n",
       " 'COOPER',\n",
       " 'PILOT',\n",
       " 'Berlin',\n",
       " 'Gazette',\n",
       " 'ECKERMANN',\n",
       " 'CONVERSATIONS',\n",
       " 'GOETHE',\n",
       " 'ESSEX',\n",
       " 'WAS',\n",
       " 'ATTACKED',\n",
       " 'FINALLY',\n",
       " 'DESTROYED',\n",
       " 'OWEN',\n",
       " 'CHACE',\n",
       " 'FIRST',\n",
       " 'SAID',\n",
       " 'VESSEL',\n",
       " 'YORK',\n",
       " '1821',\n",
       " 'piping',\n",
       " 'dimmed',\n",
       " 'phospher',\n",
       " 'ELIZABETH',\n",
       " 'OAKES',\n",
       " 'SMITH',\n",
       " 'amounted',\n",
       " '440',\n",
       " 'SCORESBY',\n",
       " 'Mad',\n",
       " 'agonies',\n",
       " 'endures',\n",
       " 'infuriated',\n",
       " 'rears',\n",
       " 'snaps',\n",
       " 'propelled',\n",
       " 'observers',\n",
       " 'opportunities',\n",
       " 'habitudes',\n",
       " 'BEALE',\n",
       " 'offensively',\n",
       " 'artful',\n",
       " 'mischievous',\n",
       " 'FREDERICK',\n",
       " 'DEBELL',\n",
       " '1840',\n",
       " 'October',\n",
       " 'Raise',\n",
       " 'ay',\n",
       " 'THAR',\n",
       " 'bowes',\n",
       " 'os',\n",
       " 'ROSS',\n",
       " 'ETCHINGS',\n",
       " 'CRUIZE',\n",
       " '1846',\n",
       " 'Globe',\n",
       " 'transactions',\n",
       " 'relate',\n",
       " 'HUSSEY',\n",
       " 'SURVIVORS',\n",
       " 'parried',\n",
       " 'MISSIONARY',\n",
       " 'JOURNAL',\n",
       " 'TYERMAN',\n",
       " 'boldest',\n",
       " 'persevering',\n",
       " 'REPORT',\n",
       " 'DANIEL',\n",
       " 'SPEECH',\n",
       " 'SENATE',\n",
       " 'APPLICATION',\n",
       " 'ERECTION',\n",
       " 'BREAKWATER',\n",
       " 'CAPTORS',\n",
       " 'WHALEMAN',\n",
       " 'ADVENTURES',\n",
       " 'BIOGRAPHY',\n",
       " 'GATHERED',\n",
       " 'HOMEWARD',\n",
       " 'COMMODORE',\n",
       " 'PREBLE',\n",
       " 'REV',\n",
       " 'CHEEVER',\n",
       " 'MUTINEER',\n",
       " 'BROTHER',\n",
       " 'ANOTHER',\n",
       " 'MCCULLOCH',\n",
       " 'COMMERCIAL',\n",
       " 'reciprocal',\n",
       " 'clews',\n",
       " 'SOMETHING',\n",
       " 'UNPUBLISHED',\n",
       " 'CURRENTS',\n",
       " 'Pedestrians',\n",
       " 'recollect',\n",
       " 'gateways',\n",
       " 'VOYAGER',\n",
       " 'ARCTIC',\n",
       " 'NEWSPAPER',\n",
       " 'TAKING',\n",
       " 'RETAKING',\n",
       " 'HOBOMACK',\n",
       " 'MIRIAM',\n",
       " 'FISHERMAN',\n",
       " 'appliance',\n",
       " 'RIBS',\n",
       " 'TRUCKS',\n",
       " 'Terra',\n",
       " 'Del',\n",
       " 'Fuego',\n",
       " 'DARWIN',\n",
       " 'NATURALIST',\n",
       " \";--'\",\n",
       " '!\\'\"',\n",
       " 'WHARTON',\n",
       " 'Loomings',\n",
       " 'spleen',\n",
       " 'regulating',\n",
       " 'circulation',\n",
       " 'Whenever',\n",
       " 'drizzly',\n",
       " 'hypos',\n",
       " 'philosophical',\n",
       " 'Cato',\n",
       " 'Manhattoes',\n",
       " 'reefs',\n",
       " 'downtown',\n",
       " 'gazers',\n",
       " 'Circumambulate',\n",
       " 'Corlears',\n",
       " 'Coenties',\n",
       " 'Slip',\n",
       " 'Whitehall',\n",
       " 'Posted',\n",
       " 'sentinels',\n",
       " 'spiles',\n",
       " 'pier',\n",
       " 'lath',\n",
       " 'counters',\n",
       " 'desks',\n",
       " 'loitering',\n",
       " 'shady',\n",
       " 'Inlanders',\n",
       " 'lanes',\n",
       " 'alleys',\n",
       " 'attract',\n",
       " 'dale',\n",
       " 'dreamiest',\n",
       " 'shadiest',\n",
       " 'quietest',\n",
       " 'enchanting',\n",
       " 'Saco',\n",
       " 'crucifix',\n",
       " 'Deep',\n",
       " 'mazy',\n",
       " 'Tiger',\n",
       " 'Tennessee',\n",
       " 'Rockaway',\n",
       " 'Persians',\n",
       " 'deity',\n",
       " 'Narcissus',\n",
       " 'ungraspable',\n",
       " 'hazy',\n",
       " 'quarrelsome',\n",
       " 'offices',\n",
       " 'abominate',\n",
       " 'toils',\n",
       " 'trials',\n",
       " 'barques',\n",
       " 'schooners',\n",
       " 'broiling',\n",
       " 'buttered',\n",
       " 'judgmatically',\n",
       " 'peppered',\n",
       " 'reverentially',\n",
       " 'idolatrous',\n",
       " 'dotings',\n",
       " 'ibis',\n",
       " 'roasted',\n",
       " 'bake',\n",
       " 'plumb',\n",
       " 'Van',\n",
       " 'Rensselaers',\n",
       " 'Randolphs',\n",
       " 'Hardicanutes',\n",
       " 'lording',\n",
       " 'tallest',\n",
       " 'decoction',\n",
       " 'Seneca',\n",
       " 'Stoics',\n",
       " 'Testament',\n",
       " 'promptly',\n",
       " 'rub',\n",
       " 'infliction',\n",
       " 'BEING',\n",
       " 'PAID',\n",
       " 'urbane',\n",
       " 'ills',\n",
       " 'monied',\n",
       " 'consign',\n",
       " 'prevalent',\n",
       " 'violate',\n",
       " 'Pythagorean',\n",
       " 'commonalty',\n",
       " 'police',\n",
       " 'surveillance',\n",
       " 'programme',\n",
       " 'solo',\n",
       " 'CONTESTED',\n",
       " 'ELECTION',\n",
       " 'PRESIDENCY',\n",
       " 'UNITED',\n",
       " 'STATES',\n",
       " 'ISHMAEL',\n",
       " 'BLOODY',\n",
       " 'AFFGHANISTAN',\n",
       " 'managers',\n",
       " 'genteel',\n",
       " 'comedies',\n",
       " 'farces',\n",
       " 'cunningly',\n",
       " 'disguises',\n",
       " 'cajoling',\n",
       " 'unbiased',\n",
       " 'freewill',\n",
       " 'discriminating',\n",
       " 'overwhelming',\n",
       " 'undeliverable',\n",
       " 'itch',\n",
       " 'forbidden',\n",
       " 'ignoring',\n",
       " 'lodges',\n",
       " 'Carpet',\n",
       " 'Bag',\n",
       " 'Manhatto',\n",
       " 'candidates',\n",
       " 'penalties',\n",
       " 'Tyre',\n",
       " 'Carthage',\n",
       " 'imported',\n",
       " 'cobblestones',\n",
       " 'bitingly',\n",
       " 'shouldering',\n",
       " 'price',\n",
       " 'fervent',\n",
       " 'asphaltic',\n",
       " 'pavement',\n",
       " 'flinty',\n",
       " 'projections',\n",
       " 'soles',\n",
       " 'Too',\n",
       " 'cheapest',\n",
       " 'cheeriest',\n",
       " 'invitingly',\n",
       " 'particles',\n",
       " 'peer',\n",
       " 'Angel',\n",
       " 'Doom',\n",
       " 'wailing',\n",
       " 'gnashing',\n",
       " 'Wretched',\n",
       " 'entertainment',\n",
       " 'Moving',\n",
       " 'emigrant',\n",
       " 'poverty',\n",
       " 'creak',\n",
       " 'lodgings',\n",
       " 'zephyr',\n",
       " 'hob',\n",
       " 'toasting',\n",
       " 'observest',\n",
       " 'sashless',\n",
       " 'glazier',\n",
       " 'reasonest',\n",
       " 'chinks',\n",
       " 'crannies',\n",
       " 'lint',\n",
       " 'chattering',\n",
       " 'shiverings',\n",
       " 'cob',\n",
       " 'redder',\n",
       " 'Orion',\n",
       " 'glitters',\n",
       " 'conservatories',\n",
       " 'president',\n",
       " 'temperance',\n",
       " 'blubbering',\n",
       " 'straggling',\n",
       " 'wainscots',\n",
       " 'reminding',\n",
       " 'oilpainting',\n",
       " 'besmoked',\n",
       " 'defaced',\n",
       " 'unequal',\n",
       " 'crosslights',\n",
       " 'hags',\n",
       " 'delineate',\n",
       " 'bewitched',\n",
       " 'ponderings',\n",
       " 'boggy',\n",
       " 'soggy',\n",
       " 'squitchy',\n",
       " 'froze',\n",
       " 'heath',\n",
       " 'icebound',\n",
       " 'represents',\n",
       " 'Horner',\n",
       " 'foundered',\n",
       " 'clubs',\n",
       " 'harvesting',\n",
       " 'hacking',\n",
       " 'horrifying',\n",
       " 'Mixed',\n",
       " 'Nathan',\n",
       " 'Swain',\n",
       " 'corkscrew',\n",
       " 'Blanco',\n",
       " 'sojourning',\n",
       " 'fireplaces',\n",
       " 'duskier',\n",
       " 'cockpits',\n",
       " 'rarities',\n",
       " 'Projecting',\n",
       " 'Within',\n",
       " 'shelves',\n",
       " 'flasks',\n",
       " 'bustles',\n",
       " 'deliriums',\n",
       " 'Abominable',\n",
       " 'tumblers',\n",
       " 'cylinders',\n",
       " 'goggling',\n",
       " 'deceitfully',\n",
       " 'tapered',\n",
       " 'Parallel',\n",
       " 'pecked',\n",
       " 'footpads',\n",
       " 'Fill',\n",
       " 'shilling',\n",
       " 'examining',\n",
       " 'SKRIMSHANDER',\n",
       " 'accommodated',\n",
       " 'unoccupied',\n",
       " 'haint',\n",
       " 'pose',\n",
       " 'whalin',\n",
       " 'decidedly',\n",
       " 'objectionable',\n",
       " 'wander',\n",
       " 'Battery',\n",
       " 'ruminating',\n",
       " 'adorning',\n",
       " 'potatoes',\n",
       " 'sartainty',\n",
       " 'diabolically',\n",
       " 'steaks',\n",
       " 'undress',\n",
       " 'looker',\n",
       " 'rioting',\n",
       " 'Grampus',\n",
       " 'seed',\n",
       " 'Feegees',\n",
       " 'tramping',\n",
       " 'Enveloped',\n",
       " 'bedarned',\n",
       " 'eruption',\n",
       " 'officiating',\n",
       " 'brimmers',\n",
       " 'complained',\n",
       " 'potion',\n",
       " 'colds',\n",
       " 'catarrhs',\n",
       " 'liquor',\n",
       " 'arrantest',\n",
       " 'topers',\n",
       " 'obstreperously',\n",
       " 'aloof',\n",
       " 'desirous',\n",
       " 'hilarity',\n",
       " 'coffer',\n",
       " 'Southerner',\n",
       " 'mountaineers',\n",
       " 'Alleghanian',\n",
       " 'missed',\n",
       " 'supernaturally',\n",
       " 'congratulate',\n",
       " 'multiply',\n",
       " 'bachelor',\n",
       " 'abominated',\n",
       " 'tidiest',\n",
       " 'bedwards',\n",
       " 'shan',\n",
       " 'tablecloth',\n",
       " 'Skrimshander',\n",
       " 'bump',\n",
       " 'spraining',\n",
       " 'eider',\n",
       " 'yoking',\n",
       " 'rickety',\n",
       " 'whirlwinds',\n",
       " 'knockings',\n",
       " 'dismissed',\n",
       " 'popped',\n",
       " 'cherishing',\n",
       " 'chuckled',\n",
       " 'chuckle',\n",
       " 'mightily',\n",
       " 'catches',\n",
       " 'bamboozingly',\n",
       " 'overstocked',\n",
       " 'toothpick',\n",
       " 'rayther',\n",
       " 'BROWN',\n",
       " 'slanderin',\n",
       " 'farrago',\n",
       " 'BROKE',\n",
       " 'Sartain',\n",
       " 'Mt',\n",
       " 'Hecla',\n",
       " 'persist',\n",
       " 'mystifying',\n",
       " 'unsay',\n",
       " 'criminal',\n",
       " 'Wall',\n",
       " 'purty',\n",
       " 'sarmon',\n",
       " 'rips',\n",
       " 'tellin',\n",
       " 'bought',\n",
       " 'balmed',\n",
       " 'curios',\n",
       " 'sellin',\n",
       " 'inions',\n",
       " 'fooling',\n",
       " 'idolators',\n",
       " 'Depend',\n",
       " 'reg',\n",
       " 'lar',\n",
       " 'spliced',\n",
       " 'Johnny',\n",
       " 'sprawling',\n",
       " 'Arter',\n",
       " 'glim',\n",
       " 'jiffy',\n",
       " 'irresolute',\n",
       " 'vum',\n",
       " 'WON',\n",
       " 'Folding',\n",
       " 'scrutiny',\n",
       " 'porcupine',\n",
       " 'moccasin',\n",
       " 'ponchos',\n",
       " 'parade',\n",
       " 'rainy',\n",
       " 'remembering',\n",
       " 'commended',\n",
       " 'cobs',\n",
       " 'Nod',\n",
       " 'footfall',\n",
       " 'unlacing',\n",
       " 'blackish',\n",
       " 'plasters',\n",
       " 'inkling',\n",
       " 'Placing',\n",
       " 'crammed',\n",
       " 'scalp',\n",
       " 'mildewed',\n",
       " 'Ignorance',\n",
       " 'parent',\n",
       " 'nonplussed',\n",
       " 'undressing',\n",
       " 'checkered',\n",
       " 'Thirty',\n",
       " 'frogs',\n",
       " 'quaked',\n",
       " 'wrapall',\n",
       " 'dreadnaught',\n",
       " 'fumbled',\n",
       " 'Remembering',\n",
       " 'manikin',\n",
       " 'tenpin',\n",
       " 'andirons',\n",
       " 'jambs',\n",
       " 'bricks',\n",
       " 'appropriate',\n",
       " 'applying',\n",
       " 'hastier',\n",
       " 'withdrawals',\n",
       " 'antics',\n",
       " 'devotee',\n",
       " 'extinguishing',\n",
       " 'unceremoniously',\n",
       " 'bagged',\n",
       " 'sportsman',\n",
       " 'woodcock',\n",
       " 'uncomfortableness',\n",
       " 'deliberating',\n",
       " 'puffed',\n",
       " 'sang',\n",
       " 'Stammering',\n",
       " 'conjured',\n",
       " 'responses',\n",
       " 'debel',\n",
       " 'flourishing',\n",
       " 'Angels',\n",
       " 'flourishings',\n",
       " 'peddlin',\n",
       " 'sleepe',\n",
       " 'grunted',\n",
       " 'gettee',\n",
       " 'motioning',\n",
       " 'comely',\n",
       " 'insured',\n",
       " 'Counterpane',\n",
       " 'parti',\n",
       " 'triangles',\n",
       " 'interminable',\n",
       " 'caper',\n",
       " 'supperless',\n",
       " '21st',\n",
       " 'hemisphere',\n",
       " 'sigh',\n",
       " 'Sixteen',\n",
       " 'ached',\n",
       " 'coaches',\n",
       " 'stockinged',\n",
       " 'slippering',\n",
       " 'misbehaviour',\n",
       " 'unendurable',\n",
       " 'stepmothers',\n",
       " 'misfortunes',\n",
       " 'steeped',\n",
       " 'shudderingly',\n",
       " 'confounding',\n",
       " 'soberly',\n",
       " 'recurred',\n",
       " 'predicament',\n",
       " 'unlock',\n",
       " 'bridegroom',\n",
       " 'clasp',\n",
       " 'hugged',\n",
       " 'rouse',\n",
       " 'snore',\n",
       " 'scratch',\n",
       " 'Throwing',\n",
       " 'expostulations',\n",
       " 'unbecomingness',\n",
       " 'matrimonial',\n",
       " 'dawning',\n",
       " 'overture',\n",
       " 'innate',\n",
       " 'compliment',\n",
       " 'civility',\n",
       " 'rudeness',\n",
       " 'toilette',\n",
       " 'dressing',\n",
       " 'donning',\n",
       " 'gaspings',\n",
       " 'booting',\n",
       " 'caterpillar',\n",
       " 'outlandishness',\n",
       " 'manners',\n",
       " 'education',\n",
       " 'undergraduate',\n",
       " 'dreamt',\n",
       " 'cowhide',\n",
       " 'pinched',\n",
       " 'curtains',\n",
       " 'indecorous',\n",
       " 'contented',\n",
       " 'restricting',\n",
       " 'donned',\n",
       " 'lathering',\n",
       " 'unsheathes',\n",
       " 'whets',\n",
       " 'Rogers',\n",
       " 'cutlery',\n",
       " 'Afterwards',\n",
       " 'baton',\n",
       " 'Breakfast',\n",
       " 'pleasantly',\n",
       " 'bountifully',\n",
       " 'laughable',\n",
       " 'bosky',\n",
       " 'unshorn',\n",
       " 'gowns',\n",
       " 'toasted',\n",
       " 'lingers',\n",
       " 'tarried',\n",
       " 'barred',\n",
       " 'Grub',\n",
       " 'Park',\n",
       " 'assurance',\n",
       " 'polish',\n",
       " 'occasioned',\n",
       " 'embarrassed',\n",
       " 'bashfulness',\n",
       " 'duelled',\n",
       " 'winking',\n",
       " 'tastes',\n",
       " 'sheepishly',\n",
       " 'bashful',\n",
       " 'icicle',\n",
       " 'admirer',\n",
       " 'cordially',\n",
       " 'grappling',\n",
       " 'genteelly',\n",
       " 'eschewed',\n",
       " 'undivided',\n",
       " '6',\n",
       " 'circulating',\n",
       " 'nondescripts',\n",
       " 'Chestnut',\n",
       " 'jostle',\n",
       " 'Regent',\n",
       " 'Lascars',\n",
       " 'Bombay',\n",
       " 'Apollo',\n",
       " 'Feegeeans',\n",
       " 'Tongatobooarrs',\n",
       " 'Erromanggoans',\n",
       " 'Pannangians',\n",
       " 'Brighggians',\n",
       " 'weekly',\n",
       " 'Vermonters',\n",
       " 'stalwart',\n",
       " 'frames',\n",
       " 'felled',\n",
       " 'strutting',\n",
       " 'wester',\n",
       " 'bombazine',\n",
       " 'cloak',\n",
       " 'mow',\n",
       " 'gloves',\n",
       " 'joins',\n",
       " 'outfit',\n",
       " 'waistcoats',\n",
       " 'Hay',\n",
       " 'Seed',\n",
       " 'tract',\n",
       " 'dearest',\n",
       " 'pave',\n",
       " 'eggs',\n",
       " 'patrician',\n",
       " 'parks',\n",
       " 'scraggy',\n",
       " 'scoria',\n",
       " 'Herr',\n",
       " 'dowers',\n",
       " 'nieces',\n",
       " 'reservoirs',\n",
       " 'maples',\n",
       " 'bountiful',\n",
       " 'proffer',\n",
       " 'passer',\n",
       " 'cones',\n",
       " 'blossoms',\n",
       " 'superinduced',\n",
       " 'carnation',\n",
       " 'Salem',\n",
       " 'sweethearts',\n",
       " 'Puritanic',\n",
       " 'Whaleman',\n",
       " 'Wrapping',\n",
       " 'Each',\n",
       " 'quote',\n",
       " 'TALBOT',\n",
       " 'Near',\n",
       " 'Desolation',\n",
       " '1st',\n",
       " 'SISTER',\n",
       " 'ROBERT',\n",
       " 'WILLIS',\n",
       " 'ELLERY',\n",
       " 'NATHAN',\n",
       " 'COLEMAN',\n",
       " 'WALTER',\n",
       " 'CANNY',\n",
       " 'SETH',\n",
       " 'GLEIG',\n",
       " 'Forming',\n",
       " 'ELIZA',\n",
       " '31st',\n",
       " 'MARBLE',\n",
       " 'SHIPMATES',\n",
       " 'EZEKIEL',\n",
       " 'HARDY',\n",
       " 'AUGUST',\n",
       " '3d',\n",
       " '1833',\n",
       " 'WIDOW',\n",
       " 'Shaking',\n",
       " 'glazed',\n",
       " 'Affected',\n",
       " 'relatives',\n",
       " 'unhealing',\n",
       " 'sympathetically',\n",
       " 'wounds',\n",
       " 'bleed',\n",
       " 'blanks',\n",
       " ...]"
      ]
     },
     "execution_count": 10,
     "metadata": {},
     "output_type": "execute_result"
    }
   ],
   "source": [
    "fdist.hapaxes()"
   ]
  },
  {
   "cell_type": "code",
   "execution_count": 13,
   "id": "45a2f66f",
   "metadata": {},
   "outputs": [
    {
     "data": {
      "text/plain": [
       "1"
      ]
     },
     "execution_count": 13,
     "metadata": {},
     "output_type": "execute_result"
    }
   ],
   "source": [
    "fdist['Herman']"
   ]
  },
  {
   "cell_type": "code",
   "execution_count": 15,
   "id": "25c17ced",
   "metadata": {},
   "outputs": [
    {
     "data": {
      "text/plain": [
       "282"
      ]
     },
     "execution_count": 15,
     "metadata": {},
     "output_type": "execute_result"
    }
   ],
   "source": [
    "fdist['Whale']"
   ]
  },
  {
   "cell_type": "code",
   "execution_count": 16,
   "id": "c4357d8c",
   "metadata": {},
   "outputs": [
    {
     "data": {
      "text/plain": [
       "['CIRCUMNAVIGATION',\n",
       " 'Physiognomically',\n",
       " 'apprehensiveness',\n",
       " 'cannibalistically',\n",
       " 'characteristically',\n",
       " 'circumnavigating',\n",
       " 'circumnavigation',\n",
       " 'circumnavigations',\n",
       " 'comprehensiveness',\n",
       " 'hermaphroditical',\n",
       " 'indiscriminately',\n",
       " 'indispensableness',\n",
       " 'irresistibleness',\n",
       " 'physiognomically',\n",
       " 'preternaturalness',\n",
       " 'responsibilities',\n",
       " 'simultaneousness',\n",
       " 'subterraneousness',\n",
       " 'supernaturalness',\n",
       " 'superstitiousness',\n",
       " 'uncomfortableness',\n",
       " 'uncompromisedness',\n",
       " 'undiscriminating',\n",
       " 'uninterpenetratingly']"
      ]
     },
     "execution_count": 16,
     "metadata": {},
     "output_type": "execute_result"
    }
   ],
   "source": [
    "ex= set(text1)\n",
    "big_words=[w for w in ex if len(w)>15]\n",
    "sorted(big_words)"
   ]
  },
  {
   "cell_type": "markdown",
   "id": "aaa07039",
   "metadata": {},
   "source": [
    "# concordance\n"
   ]
  },
  {
   "cell_type": "code",
   "execution_count": 17,
   "id": "0d635e44",
   "metadata": {},
   "outputs": [
    {
     "name": "stdout",
     "output_type": "stream",
     "text": [
      "Displaying 6 of 6 matches:\n",
      "t , and was fast asleep . But the frightened master comes to him , and shrieks\n",
      "nd never came to good . He got so frightened about his plaguy soul , that he s\n",
      " says he . Slid ! man , but I was frightened . Such a phiz ! But , somehow , n\n",
      "aking of that buffalo robe to the frightened colt ! Though neither knows where\n",
      "ndostan coast with a deck load of frightened horses , careens , buries , rolls\n",
      "st - sou - east , sir ,\" said the frightened steersman . \" Thou liest !\" smiti\n"
     ]
    }
   ],
   "source": [
    "text1.concordance('frightened')"
   ]
  },
  {
   "cell_type": "code",
   "execution_count": 18,
   "id": "36014cae",
   "metadata": {},
   "outputs": [
    {
     "name": "stdout",
     "output_type": "stream",
     "text": [
      "Displaying 2 of 2 matches:\n",
      "ns , and dolphins , similar to the grotesque figures on the celestial globe of \n",
      "carving the lid with all manner of grotesque figures and drawings ; and it seem\n"
     ]
    }
   ],
   "source": [
    "text1.concordance('grotesque')"
   ]
  },
  {
   "cell_type": "markdown",
   "id": "313f45bf",
   "metadata": {},
   "source": [
    "# similar function"
   ]
  },
  {
   "cell_type": "code",
   "execution_count": 19,
   "id": "2fc2f32e",
   "metadata": {},
   "outputs": [
    {
     "name": "stdout",
     "output_type": "stream",
     "text": [
      "silent wild racing\n"
     ]
    }
   ],
   "source": [
    "text1.similar('frightened')"
   ]
  },
  {
   "cell_type": "code",
   "execution_count": 20,
   "id": "aca6367c",
   "metadata": {},
   "outputs": [
    {
     "name": "stdout",
     "output_type": "stream",
     "text": [
      "Displaying 1 of 1 matches:\n",
      "nail - stubbs of the steel shoes of racing horses .\" \" Horse - shoe stubbs , s\n"
     ]
    }
   ],
   "source": [
    "text1.concordance('racing')"
   ]
  },
  {
   "cell_type": "markdown",
   "id": "fcae77ed",
   "metadata": {},
   "source": [
    "# DISPERSION PLOTS"
   ]
  },
  {
   "cell_type": "code",
   "execution_count": 21,
   "id": "94cfc6de",
   "metadata": {},
   "outputs": [
    {
     "data": {
      "image/png": "[encoded data removed]",
      "text/plain": [
       "<Figure size 432x288 with 1 Axes>"
      ]
     },
     "metadata": {
      "needs_background": "light"
     },
     "output_type": "display_data"
    }
   ],
   "source": [
    "text6.dispersion_plot(['sword','grail','knight'])"
   ]
  },
  {
   "cell_type": "code",
   "execution_count": 1,
   "id": "a82754c0",
   "metadata": {},
   "outputs": [
    {
     "ename": "NameError",
     "evalue": "name 'text5' is not defined",
     "output_type": "error",
     "traceback": [
      "\u001b[1;31m---------------------------------------------------------------------------\u001b[0m",
      "\u001b[1;31mNameError\u001b[0m                                 Traceback (most recent call last)",
      "Input \u001b[1;32mIn [1]\u001b[0m, in \u001b[0;36m<cell line: 1>\u001b[1;34m()\u001b[0m\n\u001b[1;32m----> 1\u001b[0m \u001b[43mtext5\u001b[49m\u001b[38;5;241m.\u001b[39mdispersion_plot([\u001b[38;5;124m'\u001b[39m\u001b[38;5;124m:)\u001b[39m\u001b[38;5;124m'\u001b[39m,\u001b[38;5;124m'\u001b[39m\u001b[38;5;124mhi\u001b[39m\u001b[38;5;124m'\u001b[39m,\u001b[38;5;124m'\u001b[39m\u001b[38;5;124mlol\u001b[39m\u001b[38;5;124m'\u001b[39m])\n",
      "\u001b[1;31mNameError\u001b[0m: name 'text5' is not defined"
     ]
    }
   ],
   "source": [
    "text5.dispersion_plot([':)','hi','lol'])"
   ]
  },
  {
   "cell_type": "markdown",
   "id": "3355cfc6",
   "metadata": {},
   "source": [
    "# Building NLP Application"
   ]
  },
  {
   "attachments": {
    "download.png": {
     "image/png": "[encoded data removed]"
    }
   },
   "cell_type": "markdown",
   "id": "2e302894",
   "metadata": {},
   "source": [
    "![download.png](attachment:download.png)"
   ]
  },
  {
   "cell_type": "code",
   "execution_count": 3,
   "id": "10dd6c8a",
   "metadata": {
    "scrolled": true
   },
   "outputs": [
    {
     "ename": "ModuleNotFoundError",
     "evalue": "No module named 'tensorflow.compat'",
     "output_type": "error",
     "traceback": [
      "\u001b[1;31m---------------------------------------------------------------------------\u001b[0m",
      "\u001b[1;31mModuleNotFoundError\u001b[0m                       Traceback (most recent call last)",
      "Input \u001b[1;32mIn [3]\u001b[0m, in \u001b[0;36m<cell line: 2>\u001b[1;34m()\u001b[0m\n\u001b[0;32m      1\u001b[0m \u001b[38;5;28;01mimport\u001b[39;00m \u001b[38;5;21;01mnumpy\u001b[39;00m \u001b[38;5;28;01mas\u001b[39;00m \u001b[38;5;21;01mnp\u001b[39;00m\n\u001b[1;32m----> 2\u001b[0m \u001b[38;5;28;01mfrom\u001b[39;00m \u001b[38;5;21;01mkeras\u001b[39;00m\u001b[38;5;21;01m.\u001b[39;00m\u001b[38;5;21;01mdatasets\u001b[39;00m \u001b[38;5;28;01mimport\u001b[39;00m imdb\n\u001b[0;32m      3\u001b[0m \u001b[38;5;28;01mfrom\u001b[39;00m \u001b[38;5;21;01mkeras\u001b[39;00m\u001b[38;5;21;01m.\u001b[39;00m\u001b[38;5;21;01mmodels\u001b[39;00m \u001b[38;5;28;01mimport\u001b[39;00m Sequential\n\u001b[0;32m      4\u001b[0m \u001b[38;5;28;01mfrom\u001b[39;00m \u001b[38;5;21;01mkeras\u001b[39;00m\u001b[38;5;21;01m.\u001b[39;00m\u001b[38;5;21;01mlayers\u001b[39;00m \u001b[38;5;28;01mimport\u001b[39;00m Dense\n",
      "File \u001b[1;32m~\\AppData\\Local\\Programs\\Python\\Python310\\lib\\site-packages\\keras\\__init__.py:21\u001b[0m, in \u001b[0;36m<module>\u001b[1;34m\u001b[0m\n\u001b[0;32m     15\u001b[0m \u001b[38;5;124;03m\"\"\"Implementation of the Keras API, the high-level API of TensorFlow.\u001b[39;00m\n\u001b[0;32m     16\u001b[0m \n\u001b[0;32m     17\u001b[0m \u001b[38;5;124;03mDetailed documentation and user guides are available at\u001b[39;00m\n\u001b[0;32m     18\u001b[0m \u001b[38;5;124;03m[keras.io](https://keras.io).\u001b[39;00m\n\u001b[0;32m     19\u001b[0m \u001b[38;5;124;03m\"\"\"\u001b[39;00m\n\u001b[0;32m     20\u001b[0m \u001b[38;5;28;01mfrom\u001b[39;00m \u001b[38;5;21;01mkeras\u001b[39;00m \u001b[38;5;28;01mimport\u001b[39;00m distribute\n\u001b[1;32m---> 21\u001b[0m \u001b[38;5;28;01mfrom\u001b[39;00m \u001b[38;5;21;01mkeras\u001b[39;00m \u001b[38;5;28;01mimport\u001b[39;00m models\n\u001b[0;32m     22\u001b[0m \u001b[38;5;28;01mfrom\u001b[39;00m \u001b[38;5;21;01mkeras\u001b[39;00m\u001b[38;5;21;01m.\u001b[39;00m\u001b[38;5;21;01mengine\u001b[39;00m\u001b[38;5;21;01m.\u001b[39;00m\u001b[38;5;21;01minput_layer\u001b[39;00m \u001b[38;5;28;01mimport\u001b[39;00m Input\n\u001b[0;32m     23\u001b[0m \u001b[38;5;28;01mfrom\u001b[39;00m \u001b[38;5;21;01mkeras\u001b[39;00m\u001b[38;5;21;01m.\u001b[39;00m\u001b[38;5;21;01mengine\u001b[39;00m\u001b[38;5;21;01m.\u001b[39;00m\u001b[38;5;21;01msequential\u001b[39;00m \u001b[38;5;28;01mimport\u001b[39;00m Sequential\n",
      "File \u001b[1;32m~\\AppData\\Local\\Programs\\Python\\Python310\\lib\\site-packages\\keras\\models\\__init__.py:18\u001b[0m, in \u001b[0;36m<module>\u001b[1;34m\u001b[0m\n\u001b[0;32m      1\u001b[0m \u001b[38;5;66;03m# Copyright 2022 The TensorFlow Authors. All Rights Reserved.\u001b[39;00m\n\u001b[0;32m      2\u001b[0m \u001b[38;5;66;03m#\u001b[39;00m\n\u001b[0;32m      3\u001b[0m \u001b[38;5;66;03m# Licensed under the Apache License, Version 2.0 (the \"License\");\u001b[39;00m\n\u001b[1;32m   (...)\u001b[0m\n\u001b[0;32m     13\u001b[0m \u001b[38;5;66;03m# limitations under the License.\u001b[39;00m\n\u001b[0;32m     14\u001b[0m \u001b[38;5;66;03m# ==============================================================================\u001b[39;00m\n\u001b[0;32m     15\u001b[0m \u001b[38;5;124;03m\"\"\"Keras models API.\"\"\"\u001b[39;00m\n\u001b[1;32m---> 18\u001b[0m \u001b[38;5;28;01mfrom\u001b[39;00m \u001b[38;5;21;01mkeras\u001b[39;00m\u001b[38;5;21;01m.\u001b[39;00m\u001b[38;5;21;01mengine\u001b[39;00m\u001b[38;5;21;01m.\u001b[39;00m\u001b[38;5;21;01mfunctional\u001b[39;00m \u001b[38;5;28;01mimport\u001b[39;00m Functional\n\u001b[0;32m     19\u001b[0m \u001b[38;5;28;01mfrom\u001b[39;00m \u001b[38;5;21;01mkeras\u001b[39;00m\u001b[38;5;21;01m.\u001b[39;00m\u001b[38;5;21;01mengine\u001b[39;00m\u001b[38;5;21;01m.\u001b[39;00m\u001b[38;5;21;01msequential\u001b[39;00m \u001b[38;5;28;01mimport\u001b[39;00m Sequential\n\u001b[0;32m     20\u001b[0m \u001b[38;5;28;01mfrom\u001b[39;00m \u001b[38;5;21;01mkeras\u001b[39;00m\u001b[38;5;21;01m.\u001b[39;00m\u001b[38;5;21;01mengine\u001b[39;00m\u001b[38;5;21;01m.\u001b[39;00m\u001b[38;5;21;01mtraining\u001b[39;00m \u001b[38;5;28;01mimport\u001b[39;00m Model\n",
      "File \u001b[1;32m~\\AppData\\Local\\Programs\\Python\\Python310\\lib\\site-packages\\keras\\engine\\functional.py:24\u001b[0m, in \u001b[0;36m<module>\u001b[1;34m\u001b[0m\n\u001b[0;32m     21\u001b[0m \u001b[38;5;28;01mimport\u001b[39;00m \u001b[38;5;21;01mitertools\u001b[39;00m\n\u001b[0;32m     22\u001b[0m \u001b[38;5;28;01mimport\u001b[39;00m \u001b[38;5;21;01mwarnings\u001b[39;00m\n\u001b[1;32m---> 24\u001b[0m \u001b[38;5;28;01mimport\u001b[39;00m \u001b[38;5;21;01mtensorflow\u001b[39;00m\u001b[38;5;21;01m.\u001b[39;00m\u001b[38;5;21;01mcompat\u001b[39;00m\u001b[38;5;21;01m.\u001b[39;00m\u001b[38;5;21;01mv2\u001b[39;00m \u001b[38;5;28;01mas\u001b[39;00m \u001b[38;5;21;01mtf\u001b[39;00m\n\u001b[0;32m     26\u001b[0m \u001b[38;5;28;01mfrom\u001b[39;00m \u001b[38;5;21;01mkeras\u001b[39;00m \u001b[38;5;28;01mimport\u001b[39;00m backend\n\u001b[0;32m     27\u001b[0m \u001b[38;5;28;01mfrom\u001b[39;00m \u001b[38;5;21;01mkeras\u001b[39;00m\u001b[38;5;21;01m.\u001b[39;00m\u001b[38;5;21;01mdtensor\u001b[39;00m \u001b[38;5;28;01mimport\u001b[39;00m layout_map \u001b[38;5;28;01mas\u001b[39;00m layout_map_lib\n",
      "\u001b[1;31mModuleNotFoundError\u001b[0m: No module named 'tensorflow.compat'"
     ]
    }
   ],
   "source": [
    "import numpy as np\n",
    "from keras.datasets import imdb\n",
    "from keras.models import Sequential\n",
    "from keras.layers import Dense\n",
    "from keras.layers import LSTM\n",
    "from keras.layers.embeddings import Embedding\n",
    "from keras.preprocessing import sequence\n"
   ]
  },
  {
   "cell_type": "code",
   "execution_count": 4,
   "id": "ecbd7786",
   "metadata": {},
   "outputs": [
    {
     "ename": "ModuleNotFoundError",
     "evalue": "No module named 'tensorflow.keras'",
     "output_type": "error",
     "traceback": [
      "\u001b[1;31m---------------------------------------------------------------------------\u001b[0m",
      "\u001b[1;31mModuleNotFoundError\u001b[0m                       Traceback (most recent call last)",
      "Input \u001b[1;32mIn [4]\u001b[0m, in \u001b[0;36m<cell line: 2>\u001b[1;34m()\u001b[0m\n\u001b[0;32m      1\u001b[0m \u001b[38;5;28;01mimport\u001b[39;00m \u001b[38;5;21;01mnumpy\u001b[39;00m \u001b[38;5;28;01mas\u001b[39;00m \u001b[38;5;21;01mnp\u001b[39;00m\n\u001b[1;32m----> 2\u001b[0m \u001b[38;5;28;01mfrom\u001b[39;00m \u001b[38;5;21;01mtensorflow\u001b[39;00m\u001b[38;5;21;01m.\u001b[39;00m\u001b[38;5;21;01mkeras\u001b[39;00m\u001b[38;5;21;01m.\u001b[39;00m\u001b[38;5;21;01mdatasets\u001b[39;00m \u001b[38;5;28;01mimport\u001b[39;00m imdb\n\u001b[0;32m      3\u001b[0m \u001b[38;5;28;01mfrom\u001b[39;00m \u001b[38;5;21;01mtensorflow\u001b[39;00m\u001b[38;5;21;01m.\u001b[39;00m\u001b[38;5;21;01mkeras\u001b[39;00m\u001b[38;5;21;01m.\u001b[39;00m\u001b[38;5;21;01mmodels\u001b[39;00m \u001b[38;5;28;01mimport\u001b[39;00m Sequential\n\u001b[0;32m      4\u001b[0m \u001b[38;5;28;01mfrom\u001b[39;00m \u001b[38;5;21;01mtensorflow\u001b[39;00m\u001b[38;5;21;01m.\u001b[39;00m\u001b[38;5;21;01mkeras\u001b[39;00m\u001b[38;5;21;01m.\u001b[39;00m\u001b[38;5;21;01mlayers\u001b[39;00m \u001b[38;5;28;01mimport\u001b[39;00m Dense, LSTM, Embedding\n",
      "\u001b[1;31mModuleNotFoundError\u001b[0m: No module named 'tensorflow.keras'"
     ]
    }
   ],
   "source": [
    "import numpy as np\n",
    "from tensorflow.keras.datasets import imdb\n",
    "from tensorflow.keras.models import Sequential\n",
    "from tensorflow.keras.layers import Dense, LSTM, Embedding\n",
    "from tensorflow.keras.preprocessing import sequence\n"
   ]
  },
  {
   "cell_type": "code",
   "execution_count": null,
   "id": "afc0d46b",
   "metadata": {},
   "outputs": [],
   "source": []
  }
 ],
 "metadata": {
  "kernelspec": {
   "display_name": "Python 3 (ipykernel)",
   "language": "python",
   "name": "python3"
  },
  "language_info": {
   "codemirror_mode": {
    "name": "ipython",
    "version": 3
   },
   "file_extension": ".py",
   "mimetype": "text/x-python",
   "name": "python",
   "nbconvert_exporter": "python",
   "pygments_lexer": "ipython3",
   "version": "3.10.5"
  }
 },
 "nbformat": 4,
 "nbformat_minor": 5
}
